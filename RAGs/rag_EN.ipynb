{
 "cells": [
  {
   "cell_type": "code",
   "execution_count": 79,
   "metadata": {},
   "outputs": [],
   "source": [
    "import requests\n",
    "from bs4 import BeautifulSoup\n",
    "from langchain.prompts import ChatPromptTemplate\n",
    "from langchain_ollama.chat_models import ChatOllama\n",
    "from langchain_core.runnables import RunnablePassthrough\n",
    "from langchain_core.output_parsers import StrOutputParser"
   ]
  },
  {
   "cell_type": "code",
   "execution_count": 80,
   "metadata": {},
   "outputs": [],
   "source": [
    "web_link='https://www.gamedeveloper.com/design/classic-postmortem-telltale-games-the-walking-dead-2012'\n",
    "\n",
    "response = requests.get(web_link)\n",
    "if response.status_code == 200:\n",
    "    soup = BeautifulSoup(response.content, 'html.parser')\n",
    "    text = soup.get_text(separator=\"\\n\", strip=True)"
   ]
  },
  {
   "cell_type": "code",
   "execution_count": 81,
   "metadata": {},
   "outputs": [
    {
     "name": "stderr",
     "output_type": "stream",
     "text": [
      "Created a chunk of size 1129, which is longer than the specified 1000\n"
     ]
    }
   ],
   "source": [
    "from langchain.text_splitter import CharacterTextSplitter\n",
    "\n",
    "text_splitter = CharacterTextSplitter(\n",
    "    separator=\"\\n\",\n",
    "    chunk_size=1000,  \n",
    "    chunk_overlap=100,  \n",
    "    length_function=len\n",
    ")\n",
    "chunks = text_splitter.split_text(text)\n"
   ]
  },
  {
   "cell_type": "code",
   "execution_count": 82,
   "metadata": {},
   "outputs": [],
   "source": [
    "from langchain_huggingface import HuggingFaceEmbeddings\n",
    "\n",
    "embeddings = HuggingFaceEmbeddings(model_name=\"sentence-transformers/all-mpnet-base-v2\")\n"
   ]
  },
  {
   "cell_type": "code",
   "execution_count": 83,
   "metadata": {},
   "outputs": [],
   "source": [
    "from langchain_chroma import Chroma\n",
    "\n",
    "\n",
    "vector_store = Chroma.from_texts(\n",
    "    texts=chunks,\n",
    "    collection_name=\"twd_pm\",\n",
    "    embedding=embeddings,\n",
    "    persist_directory=\"./twd\",\n",
    ")"
   ]
  },
  {
   "cell_type": "code",
   "execution_count": 85,
   "metadata": {},
   "outputs": [
    {
     "name": "stdout",
     "output_type": "stream",
     "text": [
      "* [SIM=0.701780] The Walking Dead\n",
      "we were mostly able to find the great actors we required in time, but just barely.\n",
      "The challenge of defining and communicating the essence of our characters in ways that provide talented actors the tools they need in a game context has proven to be a daunting and difficult task. Our actors rarely get to perform with one another—we usually record their parts individually—which makes it hard to offer them context or insights into their character’s motivation. Also, we’re finding that directing the performances during the actual recording sessions is itself a specialized skill set that we need to improve.\n",
      "Image via Game Developer Magazine, March 2013.\n",
      "Remaking episode two\n",
      "While we were focusing intently on episode one, episode two was quietly coming to life in the background on its own.\n",
      "* [SIM=0.701780] The Walking Dead\n",
      "we were mostly able to find the great actors we required in time, but just barely.\n",
      "The challenge of defining and communicating the essence of our characters in ways that provide talented actors the tools they need in a game context has proven to be a daunting and difficult task. Our actors rarely get to perform with one another—we usually record their parts individually—which makes it hard to offer them context or insights into their character’s motivation. Also, we’re finding that directing the performances during the actual recording sessions is itself a specialized skill set that we need to improve.\n",
      "Image via Game Developer Magazine, March 2013.\n",
      "Remaking episode two\n",
      "While we were focusing intently on episode one, episode two was quietly coming to life in the background on its own.\n",
      "* [SIM=0.701780] The Walking Dead\n",
      "we were mostly able to find the great actors we required in time, but just barely.\n",
      "The challenge of defining and communicating the essence of our characters in ways that provide talented actors the tools they need in a game context has proven to be a daunting and difficult task. Our actors rarely get to perform with one another—we usually record their parts individually—which makes it hard to offer them context or insights into their character’s motivation. Also, we’re finding that directing the performances during the actual recording sessions is itself a specialized skill set that we need to improve.\n",
      "Image via Game Developer Magazine, March 2013.\n",
      "Remaking episode two\n",
      "While we were focusing intently on episode one, episode two was quietly coming to life in the background on its own.\n"
     ]
    }
   ],
   "source": [
    "results = vector_store.similarity_search_with_score(\n",
    "    \"The Walking Dead\", k=3,\n",
    ")\n",
    "for res, score in results:\n",
    "    print(f\"* [SIM={score:3f}] {res.page_content}\")"
   ]
  },
  {
   "cell_type": "code",
   "execution_count": 86,
   "metadata": {},
   "outputs": [],
   "source": [
    "retriever = vector_store.as_retriever(\n",
    "    search_type=\"similarity\",  search_kwargs={\"k\": 3}\n",
    ")"
   ]
  },
  {
   "cell_type": "code",
   "execution_count": null,
   "metadata": {},
   "outputs": [
    {
     "name": "stdout",
     "output_type": "stream",
     "text": [
      "Resultado 1:\n",
      "Though we’ve aggressively patched these issues and resolved most of them, you can’t really unring a bell. There are still small content bugs left in the game, and players are too often left with an impression that the game is buggy. All we can do at this point is continue to patch, and take what we’ve learned from this experience to ensure bugs like this don’t happen in the future.\n",
      "The Walking Devs\n",
      "For the last eight years, Telltale has been manically committed to the idea that interacting with characters and stories could be some of the best game experiences ever. We’re convinced that stories are not just for cutscenes—stories can be the game themselves.\n",
      "The Walking Dead\n",
      "\n",
      "Resultado 2:\n",
      "Though we’ve aggressively patched these issues and resolved most of them, you can’t really unring a bell. There are still small content bugs left in the game, and players are too often left with an impression that the game is buggy. All we can do at this point is continue to patch, and take what we’ve learned from this experience to ensure bugs like this don’t happen in the future.\n",
      "The Walking Devs\n",
      "For the last eight years, Telltale has been manically committed to the idea that interacting with characters and stories could be some of the best game experiences ever. We’re convinced that stories are not just for cutscenes—stories can be the game themselves.\n",
      "The Walking Dead\n",
      "\n",
      "Resultado 3:\n",
      "Though we’ve aggressively patched these issues and resolved most of them, you can’t really unring a bell. There are still small content bugs left in the game, and players are too often left with an impression that the game is buggy. All we can do at this point is continue to patch, and take what we’ve learned from this experience to ensure bugs like this don’t happen in the future.\n",
      "The Walking Devs\n",
      "For the last eight years, Telltale has been manically committed to the idea that interacting with characters and stories could be some of the best game experiences ever. We’re convinced that stories are not just for cutscenes—stories can be the game themselves.\n",
      "The Walking Dead\n",
      "\n"
     ]
    }
   ],
   "source": [
    "query = \"What went wrong with The Walking Dead\"\n",
    "results = retriever.get_relevant_documents(query)  \n",
    "\n",
    "for i, result in enumerate(results):\n",
    "    print(f\"Resultado {i+1}:\")\n",
    "    print(result.page_content) \n",
    "    print()"
   ]
  },
  {
   "cell_type": "code",
   "execution_count": 88,
   "metadata": {},
   "outputs": [],
   "source": [
    "# Prompt\n",
    "template = \"\"\"Answer the question based only on the following context:\n",
    "{context}\n",
    "\n",
    "Question: {question}\n",
    "\"\"\"\n",
    "prompt = ChatPromptTemplate.from_template(template)\n",
    "\n",
    "ollama_llm = \"llama3.2\"\n",
    "model_local = ChatOllama(model=ollama_llm)\n",
    "\n",
    "chain = (\n",
    "    {\"context\": retriever, \"question\": RunnablePassthrough()}\n",
    "    | prompt\n",
    "    | model_local\n",
    "    | StrOutputParser()\n",
    ")\n"
   ]
  },
  {
   "cell_type": "code",
   "execution_count": 89,
   "metadata": {},
   "outputs": [
    {
     "data": {
      "text/plain": [
       "'According to the provided context, \"What went wrong\" refers to a specific issue mentioned multiple times:\\n\\nCasting is hard. \\n\\nSpecifically, it mentions that casting has always been tricky for the creators, and as they continue to increase the drama in their games, the bar for their actors keeps rising, making it increasingly difficult to find suitable talent.'"
      ]
     },
     "execution_count": 89,
     "metadata": {},
     "output_type": "execute_result"
    }
   ],
   "source": [
    "# Question 1\n",
    "chain.invoke(\"What went wrong with The Walking Dead?\")"
   ]
  },
  {
   "cell_type": "code",
   "execution_count": 90,
   "metadata": {},
   "outputs": [
    {
     "data": {
      "text/plain": [
       "'Based on the provided context, here\\'s what I can tell you about Telltale Games:\\n\\n1. Unique approach: Telltale brings stories from TV and film into episodic \"story\" games.\\n2. In-house operations: They handle licensing, design, development, publishing, and marketing all under one roof.\\n3. Independent but not small: The company is independent but larger than typical \"indie\" studios.\\n4. Collaborative decision-making: Product decisions are made together as a studio.\\n5. Challenges with external partners: Working with external partners and understanding the concept of \"playing a story\" requires special attention.\\n6. Focus on storytelling over technical aspects: They prioritize working out what it means to play a story rather than solely focusing on coding and technical challenges.\\n\\nThat\\'s the main information I can gather from the provided context about Telltale Games!'"
      ]
     },
     "execution_count": 90,
     "metadata": {},
     "output_type": "execute_result"
    }
   ],
   "source": [
    "# Question 2\n",
    "chain.invoke(\"Tell me about Telltale Games?\")"
   ]
  },
  {
   "cell_type": "code",
   "execution_count": 91,
   "metadata": {},
   "outputs": [
    {
     "data": {
      "text/plain": [
       "'The context only mentions \"Skybound\" in relation to partnering with them, implying that Skybound is a partner or collaborator of the company mentioned in the text. However, based on general knowledge, Skybound Entertainment is an American comic book publisher known for publishing titles such as The Walking Dead and other licensed properties.'"
      ]
     },
     "execution_count": 91,
     "metadata": {},
     "output_type": "execute_result"
    }
   ],
   "source": [
    "# Question 3\n",
    "chain.invoke(\"What is Skybound?\")"
   ]
  },
  {
   "cell_type": "markdown",
   "metadata": {},
   "source": [
    "# Creacion GUI"
   ]
  },
  {
   "cell_type": "code",
   "execution_count": 92,
   "metadata": {},
   "outputs": [],
   "source": [
    "def search_chroma(query, top_k):\n",
    "    try:   \n",
    "        results = vector_store.similarity_search(query, k=top_k)\n",
    "        return \"\\n\\n\".join(\n",
    "            [f\"**Result {i+1}:**\\n{doc.page_content}\" for i, doc in enumerate(results)]\n",
    "        )\n",
    "    except Exception as e:\n",
    "        return f\"Error: {e}\""
   ]
  },
  {
   "cell_type": "code",
   "execution_count": 93,
   "metadata": {},
   "outputs": [],
   "source": [
    "import gradio as gr"
   ]
  },
  {
   "cell_type": "code",
   "execution_count": 94,
   "metadata": {},
   "outputs": [
    {
     "name": "stdout",
     "output_type": "stream",
     "text": [
      "* Running on local URL:  http://127.0.0.1:7867\n",
      "\n",
      "To create a public link, set `share=True` in `launch()`.\n"
     ]
    },
    {
     "data": {
      "text/html": [
       "<div><iframe src=\"http://127.0.0.1:7867/\" width=\"100%\" height=\"500\" allow=\"autoplay; camera; microphone; clipboard-read; clipboard-write;\" frameborder=\"0\" allowfullscreen></iframe></div>"
      ],
      "text/plain": [
       "<IPython.core.display.HTML object>"
      ]
     },
     "metadata": {},
     "output_type": "display_data"
    },
    {
     "data": {
      "text/plain": []
     },
     "execution_count": 94,
     "metadata": {},
     "output_type": "execute_result"
    }
   ],
   "source": [
    "with gr.Blocks() as demo:\n",
    "    gr.Markdown(\"### Chroma Database Search\")\n",
    "    \n",
    "    with gr.Row():\n",
    "        query_input = gr.Textbox(label=\"Enter Your Query\", placeholder=\"Type your question here...\")\n",
    "        top_k_input = gr.Slider(1, 10, step=1, value=5, label=\"Number of Results\")\n",
    "\n",
    "    search_button = gr.Button(\"Search\")\n",
    "    output_box = gr.Textbox(label=\"Search Results\", lines=15)\n",
    "\n",
    "    search_button.click(fn=search_chroma, inputs=[query_input, top_k_input], outputs=output_box)\n",
    "\n",
    "demo.launch()"
   ]
  }
 ],
 "metadata": {
  "kernelspec": {
   "display_name": "rags",
   "language": "python",
   "name": "python3"
  },
  "language_info": {
   "codemirror_mode": {
    "name": "ipython",
    "version": 3
   },
   "file_extension": ".py",
   "mimetype": "text/x-python",
   "name": "python",
   "nbconvert_exporter": "python",
   "pygments_lexer": "ipython3",
   "version": "3.13.0"
  }
 },
 "nbformat": 4,
 "nbformat_minor": 2
}
